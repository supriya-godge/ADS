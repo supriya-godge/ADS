{
 "cells": [
  {
   "cell_type": "code",
   "execution_count": 147,
   "metadata": {},
   "outputs": [],
   "source": [
    "import pandas as pd\n",
    "import warnings\n",
    "from sklearn.utils import ConvergenceWarning\n",
    "import numpy as np\n",
    "import requests\n",
    "import re\n",
    "import os\n",
    "import glob\n",
    "import csv\n",
    "import numpy as np\n",
    "import scipy, scipy.stats\n",
    "import sklearn\n",
    "from sklearn import *\n",
    "lm=linear_model.LinearRegression()\n",
    "import statsmodels.formula.api as sm\n",
    "from itertools import cycle\n",
    "from sklearn.model_selection import StratifiedKFold\n",
    "from sklearn.feature_selection import RFE\n",
    "import matplotlib.pyplot as plt\n",
    "import seaborn as sns\n",
    "import math\n",
    "%matplotlib inline\n",
    "from numpy import genfromtxt\n",
    "from sklearn import datasets, linear_model\n",
    "from sklearn.ensemble import RandomForestRegressor\n",
    "from sklearn.ensemble import RandomForestClassifier\n",
    "from sklearn.metrics import mean_absolute_error\n",
    "from sklearn.metrics import mean_squared_error\n",
    "import seaborn as sns\n",
    "from sklearn.neural_network import MLPRegressor\n",
    "from sklearn.neural_network import MLPClassifier\n",
    "from  sklearn.metrics import confusion_matrix\n",
    "from sklearn.metrics import roc_curve, auc"
   ]
  },
  {
   "cell_type": "code",
   "execution_count": 3,
   "metadata": {},
   "outputs": [
    {
     "name": "stdout",
     "output_type": "stream",
     "text": [
      "Path:  C:\\Users\\Administrator\\midterm\n"
     ]
    }
   ],
   "source": [
    "homedir = os.path.expanduser(\"~\")\n",
    "path_to_midterm = homedir+\"\\\\midterm\"\n",
    "print(\"Path: \",path_to_midterm)"
   ]
  },
  {
   "cell_type": "code",
   "execution_count": 4,
   "metadata": {
    "collapsed": true
   },
   "outputs": [],
   "source": [
    "def performance_fillNA(perf_df):\n",
    "    perf_df['curr_ln_delin_status'] = perf_df['curr_ln_delin_status'].fillna(0)\n",
    "    perf_df['repurch_flag']=perf_df['repurch_flag'].fillna('Unknown')\n",
    "    perf_df['mod_flag']=perf_df['mod_flag'].fillna('N')\n",
    "    perf_df['zero_bal_cd']=perf_df['zero_bal_cd'].fillna(00)\n",
    "    perf_df['zero_bal_eff_dt']=perf_df['zero_bal_eff_dt'].fillna('199601')\n",
    "    perf_df['current_dupb']=perf_df['current_dupb'].fillna(0)\n",
    "    perf_df['lst_pd_inst_duedt']=perf_df['lst_pd_inst_duedt'].fillna('199601')\n",
    "    perf_df['mi_recoveries']=perf_df['mi_recoveries'].fillna(0)\n",
    "    perf_df['net_sale_proceeds']=perf_df['net_sale_proceeds'].fillna('U')\n",
    "    perf_df['non_mi_recoveries']=perf_df['non_mi_recoveries'].fillna(0)\n",
    "    perf_df['expenses']=perf_df['expenses'].fillna(0)\n",
    "    perf_df['legal_costs']=perf_df['legal_costs'].fillna(0)\n",
    "    perf_df['maint_pres_costs']=perf_df['maint_pres_costs'].fillna(0)\n",
    "    perf_df['taxes_and_insur']=perf_df['taxes_and_insur'].fillna(0)\n",
    "    perf_df['misc_expenses']=perf_df['misc_expenses'].fillna(0)\n",
    "    perf_df['actual_loss_calc']=perf_df['actual_loss_calc'].fillna(0)\n",
    "    perf_df['mod_cost']=perf_df['mod_cost'].fillna(0)\n",
    "    \n",
    "    return perf_df"
   ]
  },
  {
   "cell_type": "code",
   "execution_count": 5,
   "metadata": {
    "collapsed": true
   },
   "outputs": [],
   "source": [
    "def changeperformancedatatype(perf_df):\n",
    "        perf_df[['curr_ln_delin_status','loan_age','remng_mon_to_leg_matur','zero_bal_cd','current_dupb',\\\n",
    "                 'actual_loss_calc']] = perf_df[['curr_ln_delin_status','loan_age','remng_mon_to_leg_matur',\\\n",
    "                                                 'zero_bal_cd','current_dupb','actual_loss_calc']].astype('int64')\n",
    "\n",
    "        perf_df[['mon_rpt_prd','zero_bal_eff_dt','lst_pd_inst_duedt']] = perf_df[['mon_rpt_prd','zero_bal_eff_dt',\\\n",
    "                                                                                  'lst_pd_inst_duedt']].astype('str')\n",
    "        return perf_df"
   ]
  },
  {
   "cell_type": "code",
   "execution_count": 6,
   "metadata": {},
   "outputs": [
    {
     "name": "stdout",
     "output_type": "stream",
     "text": [
      "Started\n",
      "DataFrame creation started!!\n",
      "DataFrame created!!\n",
      "Completed!!\n"
     ]
    }
   ],
   "source": [
    "download_path = path_to_midterm+\"\\\\\"+\"2005_sample\\\\\" \n",
    "def constructperformancecsv():\n",
    "    print(\"Started\")\n",
    "    writeHeader1 = True\n",
    "    filename = \"HistoricalperformanceCombined.csv\"\n",
    "    final_sample = pd.DataFrame()\n",
    "    for subdir,dirs, files in os.walk(download_path):\n",
    "        for file in files:\n",
    "            if 'sample_svcg_' in file:\n",
    "                temp_list = []\n",
    "                chunksize = 10 ** 6\n",
    "                for chunk in pd.read_csv(os.path.join(subdir,file) ,sep=\"|\", \\\n",
    "                                         skipinitialspace=True, chunksize=chunksize, low_memory=False, header=None):\n",
    "                    temp_list.append(chunk)\n",
    "                print('DataFrame creation started!!')\n",
    "                frames = []\n",
    "                for df in temp_list:\n",
    "                    frames.append(df)\n",
    "                sample_df = pd.concat(frames)\n",
    "                sample_df.columns = ['id_loan','mon_rpt_prd','current_aupb','curr_ln_delin_status',\\\n",
    "                                     'loan_age','remng_mon_to_leg_matur', 'repurch_flag','mod_flag', \\\n",
    "                                     'zero_bal_cd', 'zero_bal_eff_dt','current_int_rte','current_dupb',\\\n",
    "                                     'lst_pd_inst_duedt','mi_recoveries', 'net_sale_proceeds',\\\n",
    "                                     'non_mi_recoveries','expenses', 'legal_costs', 'maint_pres_costs',\\\n",
    "                                     'taxes_and_insur','misc_expenses','actual_loss_calc', 'mod_cost']\n",
    "                print('DataFrame created!!')\n",
    "\n",
    "                sample_df['curr_ln_delin_status'] = [999 if x=='R' else x for x in \\\n",
    "                                                   (sample_df['curr_ln_delin_status'].apply(lambda x: x))]\n",
    "                sample_df['curr_ln_delin_status'] = [0 if x=='XX' else x for x in \\\n",
    "                                                   (sample_df['curr_ln_delin_status'].apply(lambda x: x))]\n",
    "                sample_df = performance_fillNA(sample_df)\n",
    "                sample_df = changeperformancedatatype(sample_df)\n",
    "                \n",
    "                sample_df['Year'] = ['19'+x if x=='99' else '20'+x for x in (sample_df['id_loan'].apply(lambda x: x[2:4]))]\n",
    "                sample_df['Quarter'] =sample_df['id_loan'].apply(lambda x: x[4:6])\n",
    "                print(\"Completed!!\")\n",
    "                \n",
    "                final_sample=pd.concat([final_sample, sample_df])\n",
    "    return final_sample\n",
    "\n",
    "\n",
    "Performance_data=constructperformancecsv()"
   ]
  },
  {
   "cell_type": "code",
   "execution_count": 7,
   "metadata": {},
   "outputs": [
    {
     "data": {
      "text/html": [
       "<div>\n",
       "<style>\n",
       "    .dataframe thead tr:only-child th {\n",
       "        text-align: right;\n",
       "    }\n",
       "\n",
       "    .dataframe thead th {\n",
       "        text-align: left;\n",
       "    }\n",
       "\n",
       "    .dataframe tbody tr th {\n",
       "        vertical-align: top;\n",
       "    }\n",
       "</style>\n",
       "<table border=\"1\" class=\"dataframe\">\n",
       "  <thead>\n",
       "    <tr style=\"text-align: right;\">\n",
       "      <th></th>\n",
       "      <th>id_loan</th>\n",
       "      <th>mon_rpt_prd</th>\n",
       "      <th>current_aupb</th>\n",
       "      <th>curr_ln_delin_status</th>\n",
       "      <th>loan_age</th>\n",
       "      <th>remng_mon_to_leg_matur</th>\n",
       "      <th>repurch_flag</th>\n",
       "      <th>mod_flag</th>\n",
       "      <th>zero_bal_cd</th>\n",
       "      <th>zero_bal_eff_dt</th>\n",
       "      <th>...</th>\n",
       "      <th>non_mi_recoveries</th>\n",
       "      <th>expenses</th>\n",
       "      <th>legal_costs</th>\n",
       "      <th>maint_pres_costs</th>\n",
       "      <th>taxes_and_insur</th>\n",
       "      <th>misc_expenses</th>\n",
       "      <th>actual_loss_calc</th>\n",
       "      <th>mod_cost</th>\n",
       "      <th>Year</th>\n",
       "      <th>Quarter</th>\n",
       "    </tr>\n",
       "  </thead>\n",
       "  <tbody>\n",
       "    <tr>\n",
       "      <th>3574029</th>\n",
       "      <td>F105Q4404780</td>\n",
       "      <td>201508</td>\n",
       "      <td>107846.21</td>\n",
       "      <td>0</td>\n",
       "      <td>117</td>\n",
       "      <td>243</td>\n",
       "      <td>Unknown</td>\n",
       "      <td>N</td>\n",
       "      <td>0</td>\n",
       "      <td>199601</td>\n",
       "      <td>...</td>\n",
       "      <td>0.0</td>\n",
       "      <td>0.0</td>\n",
       "      <td>0.0</td>\n",
       "      <td>0.0</td>\n",
       "      <td>0.0</td>\n",
       "      <td>0.0</td>\n",
       "      <td>0</td>\n",
       "      <td>0.0</td>\n",
       "      <td>2005</td>\n",
       "      <td>Q4</td>\n",
       "    </tr>\n",
       "    <tr>\n",
       "      <th>3574030</th>\n",
       "      <td>F105Q4404780</td>\n",
       "      <td>201509</td>\n",
       "      <td>107565.45</td>\n",
       "      <td>0</td>\n",
       "      <td>118</td>\n",
       "      <td>242</td>\n",
       "      <td>Unknown</td>\n",
       "      <td>N</td>\n",
       "      <td>0</td>\n",
       "      <td>199601</td>\n",
       "      <td>...</td>\n",
       "      <td>0.0</td>\n",
       "      <td>0.0</td>\n",
       "      <td>0.0</td>\n",
       "      <td>0.0</td>\n",
       "      <td>0.0</td>\n",
       "      <td>0.0</td>\n",
       "      <td>0</td>\n",
       "      <td>0.0</td>\n",
       "      <td>2005</td>\n",
       "      <td>Q4</td>\n",
       "    </tr>\n",
       "    <tr>\n",
       "      <th>3574031</th>\n",
       "      <td>F105Q4404780</td>\n",
       "      <td>201510</td>\n",
       "      <td>107283.69</td>\n",
       "      <td>0</td>\n",
       "      <td>119</td>\n",
       "      <td>241</td>\n",
       "      <td>Unknown</td>\n",
       "      <td>N</td>\n",
       "      <td>0</td>\n",
       "      <td>199601</td>\n",
       "      <td>...</td>\n",
       "      <td>0.0</td>\n",
       "      <td>0.0</td>\n",
       "      <td>0.0</td>\n",
       "      <td>0.0</td>\n",
       "      <td>0.0</td>\n",
       "      <td>0.0</td>\n",
       "      <td>0</td>\n",
       "      <td>0.0</td>\n",
       "      <td>2005</td>\n",
       "      <td>Q4</td>\n",
       "    </tr>\n",
       "    <tr>\n",
       "      <th>3574032</th>\n",
       "      <td>F105Q4404780</td>\n",
       "      <td>201511</td>\n",
       "      <td>107000.93</td>\n",
       "      <td>0</td>\n",
       "      <td>120</td>\n",
       "      <td>240</td>\n",
       "      <td>Unknown</td>\n",
       "      <td>N</td>\n",
       "      <td>0</td>\n",
       "      <td>199601</td>\n",
       "      <td>...</td>\n",
       "      <td>0.0</td>\n",
       "      <td>0.0</td>\n",
       "      <td>0.0</td>\n",
       "      <td>0.0</td>\n",
       "      <td>0.0</td>\n",
       "      <td>0.0</td>\n",
       "      <td>0</td>\n",
       "      <td>0.0</td>\n",
       "      <td>2005</td>\n",
       "      <td>Q4</td>\n",
       "    </tr>\n",
       "    <tr>\n",
       "      <th>3574033</th>\n",
       "      <td>F105Q4404780</td>\n",
       "      <td>201512</td>\n",
       "      <td>0.00</td>\n",
       "      <td>0</td>\n",
       "      <td>121</td>\n",
       "      <td>239</td>\n",
       "      <td>N</td>\n",
       "      <td>N</td>\n",
       "      <td>1</td>\n",
       "      <td>201512.0</td>\n",
       "      <td>...</td>\n",
       "      <td>0.0</td>\n",
       "      <td>0.0</td>\n",
       "      <td>0.0</td>\n",
       "      <td>0.0</td>\n",
       "      <td>0.0</td>\n",
       "      <td>0.0</td>\n",
       "      <td>0</td>\n",
       "      <td>0.0</td>\n",
       "      <td>2005</td>\n",
       "      <td>Q4</td>\n",
       "    </tr>\n",
       "  </tbody>\n",
       "</table>\n",
       "<p>5 rows × 25 columns</p>\n",
       "</div>"
      ],
      "text/plain": [
       "              id_loan mon_rpt_prd  current_aupb  curr_ln_delin_status  \\\n",
       "3574029  F105Q4404780      201508     107846.21                     0   \n",
       "3574030  F105Q4404780      201509     107565.45                     0   \n",
       "3574031  F105Q4404780      201510     107283.69                     0   \n",
       "3574032  F105Q4404780      201511     107000.93                     0   \n",
       "3574033  F105Q4404780      201512          0.00                     0   \n",
       "\n",
       "         loan_age  remng_mon_to_leg_matur repurch_flag mod_flag  zero_bal_cd  \\\n",
       "3574029       117                     243      Unknown        N            0   \n",
       "3574030       118                     242      Unknown        N            0   \n",
       "3574031       119                     241      Unknown        N            0   \n",
       "3574032       120                     240      Unknown        N            0   \n",
       "3574033       121                     239            N        N            1   \n",
       "\n",
       "        zero_bal_eff_dt   ...     non_mi_recoveries  expenses legal_costs  \\\n",
       "3574029          199601   ...                   0.0       0.0         0.0   \n",
       "3574030          199601   ...                   0.0       0.0         0.0   \n",
       "3574031          199601   ...                   0.0       0.0         0.0   \n",
       "3574032          199601   ...                   0.0       0.0         0.0   \n",
       "3574033        201512.0   ...                   0.0       0.0         0.0   \n",
       "\n",
       "         maint_pres_costs taxes_and_insur  misc_expenses  actual_loss_calc  \\\n",
       "3574029               0.0             0.0            0.0                 0   \n",
       "3574030               0.0             0.0            0.0                 0   \n",
       "3574031               0.0             0.0            0.0                 0   \n",
       "3574032               0.0             0.0            0.0                 0   \n",
       "3574033               0.0             0.0            0.0                 0   \n",
       "\n",
       "         mod_cost  Year  Quarter  \n",
       "3574029       0.0  2005       Q4  \n",
       "3574030       0.0  2005       Q4  \n",
       "3574031       0.0  2005       Q4  \n",
       "3574032       0.0  2005       Q4  \n",
       "3574033       0.0  2005       Q4  \n",
       "\n",
       "[5 rows x 25 columns]"
      ]
     },
     "execution_count": 7,
     "metadata": {},
     "output_type": "execute_result"
    }
   ],
   "source": [
    "Performance_data.tail()"
   ]
  },
  {
   "cell_type": "code",
   "execution_count": 8,
   "metadata": {
    "collapsed": true
   },
   "outputs": [],
   "source": [
    "def statusUpdate(df):\n",
    "    df['delinquent'] = (df.curr_ln_delin_status > 0).astype(int)\n",
    "    #df.drop('max_curr_ln_delin_status', axis = 1,inplace=True)\n",
    "    df.drop('curr_ln_delin_status', axis = 1,inplace=True)\n",
    "    #df.drop('Year',axis=1,inplace=True) #Duplicate\n",
    "    #df.drop('Quarter',axis=1,inplace=True) #Duplicate\n",
    "    return df"
   ]
  },
  {
   "cell_type": "code",
   "execution_count": 9,
   "metadata": {
    "collapsed": true
   },
   "outputs": [],
   "source": [
    "Performace_data = statusUpdate(Performance_data)\n"
   ]
  },
  {
   "cell_type": "code",
   "execution_count": 120,
   "metadata": {
    "collapsed": true
   },
   "outputs": [],
   "source": [
    "def splitting(df,label):\n",
    "    df_features = df.ix[:, df.columns != label]\n",
    "    df_target = df.ix[:, df.columns == label]\n",
    "    return df_features,df_target"
   ]
  },
  {
   "cell_type": "code",
   "execution_count": 54,
   "metadata": {},
   "outputs": [],
   "source": [
    "def findCorrelation(df):\n",
    "    # calculate the correlation matrix\n",
    "    corr = df.corr()\n",
    "    print(corr['delinquent'])\n",
    "    # plot the heatmap\n",
    "    #sns.heatmap(corr, \n",
    "    #        xticklabels=corr.columns,\n",
    "    #        yticklabels=corr.columns)"
   ]
  },
  {
   "cell_type": "code",
   "execution_count": 121,
   "metadata": {
    "collapsed": true
   },
   "outputs": [],
   "source": [
    "def dataSplit(Performace_data,label):\n",
    "    label = 'delinquent'\n",
    "    #print(Performace_data.head())\n",
    "    Hist_numeric_2005_Q1 = Performace_data[(Performace_data['Year']=='2005') & (Performace_data['Quarter']=='Q1')]\n",
    "    Hist_numeric_2005_Q1=Hist_numeric_2005_Q1._get_numeric_data()\n",
    "    findCorrelation(Hist_numeric_2005_Q1)\n",
    "\n",
    "    Hist_numeric_2005_Q2 = Performace_data[(Performace_data['Year']=='2005') & (Performace_data['Quarter']=='Q2')]\n",
    "    Hist_numeric_2005_Q2=Hist_numeric_2005_Q2._get_numeric_data()\n",
    "    #print(Hist_numeric_2005_Q2.head())\n",
    "\n",
    "    Hist_numeric_2005_Q1_features,Hist_numeric_2005_Q1_target = splitting(Hist_numeric_2005_Q1,label)\n",
    "    Hist_numeric_2005_Q2_features,Hist_numeric_2005_Q2_target = splitting(Hist_numeric_2005_Q2,label)\n",
    "    return Hist_numeric_2005_Q1_features,Hist_numeric_2005_Q1_target, Hist_numeric_2005_Q2_features,Hist_numeric_2005_Q2_target"
   ]
  },
  {
   "cell_type": "code",
   "execution_count": 149,
   "metadata": {
    "scrolled": false
   },
   "outputs": [
    {
     "name": "stdout",
     "output_type": "stream",
     "text": [
      "current_aupb              0.013046\n",
      "loan_age                  0.150777\n",
      "remng_mon_to_leg_matur    0.018246\n",
      "zero_bal_cd               0.082250\n",
      "current_int_rte          -0.024759\n",
      "current_dupb              0.012682\n",
      "mi_recoveries             0.044816\n",
      "non_mi_recoveries         0.022754\n",
      "expenses                 -0.082486\n",
      "legal_costs              -0.087452\n",
      "maint_pres_costs         -0.061489\n",
      "taxes_and_insur          -0.063170\n",
      "misc_expenses            -0.052228\n",
      "actual_loss_calc         -0.088495\n",
      "mod_cost                  0.013923\n",
      "delinquent                1.000000\n",
      "Name: delinquent, dtype: float64\n",
      "Traning (923079, 15)\n",
      "Testing (897465, 15)\n"
     ]
    },
    {
     "name": "stderr",
     "output_type": "stream",
     "text": [
      "C:\\ProgramData\\Anaconda3\\lib\\site-packages\\ipykernel_launcher.py:2: DeprecationWarning: \n",
      ".ix is deprecated. Please use\n",
      ".loc for label based indexing or\n",
      ".iloc for positional indexing\n",
      "\n",
      "See the documentation here:\n",
      "http://pandas.pydata.org/pandas-docs/stable/indexing.html#deprecate_ix\n",
      "  \n"
     ]
    }
   ],
   "source": [
    "\n",
    "traning_feature,traning_label,testing_feature,testing_label=dataSplit(Performace_data,'delinquent')\n",
    "print(\"Traning\",traning_feature.shape)\n",
    "print(\"Testing\",testing_feature.shape)"
   ]
  },
  {
   "cell_type": "code",
   "execution_count": 154,
   "metadata": {},
   "outputs": [],
   "source": [
    "\n",
    "\n",
    "\n",
    "\n",
    "def featureSelectionRFE(selector,data):\n",
    "    decision = selector.support_\n",
    "    important_feature = []\n",
    "    columns = list(data)\n",
    "    iter=0\n",
    "    for col in columns:\n",
    "        if decision[iter]:\n",
    "            print(col)\n",
    "            important_feature.append(col)\n",
    "        iter+=1\n",
    "    data_new = data.filter(important_feature,axis=1)\n",
    "    return data_new"
   ]
  },
  {
   "cell_type": "code",
   "execution_count": null,
   "metadata": {
    "collapsed": true
   },
   "outputs": [],
   "source": [
    "def featureSelectionKSelect(selector,data):\n",
    "    decision = selector.get_support()\n",
    "    important_feature = []\n",
    "    columns = list(data)\n",
    "    iter=0\n",
    "    for col in columns:\n",
    "        if decision[iter]:\n",
    "            print(col)\n",
    "            important_feature.append(col)\n",
    "        iter+=1\n",
    "    data = data[important_feature]\n",
    "    return data"
   ]
  },
  {
   "cell_type": "code",
   "execution_count": 111,
   "metadata": {},
   "outputs": [
    {
     "data": {
      "text/plain": [
       "['current_aupb',\n",
       " 'loan_age',\n",
       " 'remng_mon_to_leg_matur',\n",
       " 'current_dupb',\n",
       " 'actual_loss_calc']"
      ]
     },
     "execution_count": 111,
     "metadata": {},
     "output_type": "execute_result"
    }
   ],
   "source": [
    "list(data)"
   ]
  },
  {
   "cell_type": "code",
   "execution_count": null,
   "metadata": {
    "collapsed": true
   },
   "outputs": [],
   "source": [
    "def confusionMatrixPrint(acc):\n",
    "    print(\"\")\n",
    "    print(\"----------------------Confusion Matrix--------------------\")\n",
    "    print(\"                    Actual Result          \")\n",
    "    print(\"                   0                  1          \")\n",
    "    print(\"Expected  0        \",acc[0][0],\"        \",acc[0][1])\n",
    "    print(\"\")\n",
    "    print(\"result    1        \",acc[1][0],\"        \",acc[1][1])\n",
    "    print(\"\")\n",
    "    "
   ]
  },
  {
   "cell_type": "code",
   "execution_count": null,
   "metadata": {},
   "outputs": [
    {
     "name": "stderr",
     "output_type": "stream",
     "text": [
      "C:\\ProgramData\\Anaconda3\\lib\\site-packages\\sklearn\\utils\\validation.py:526: DataConversionWarning: A column-vector y was passed when a 1d array was expected. Please change the shape of y to (n_samples, ), for example using ravel().\n",
      "  y = column_or_1d(y, warn=True)\n"
     ]
    }
   ],
   "source": [
    "from sklearn.feature_selection import RFE\n",
    "\n",
    "\n",
    "def logistic_regressor(traning_feature, traning_label, testing_feature, testing_label):\n",
    "    logreg = linear_model.LogisticRegression(max_iter=200)\n",
    "    selector = RFE(logreg, 5, step=1)\n",
    "    selector.fit(traning_feature, traning_label)\n",
    "    testing_feature = featureSelectionRFE(selector, testing_feature)\n",
    "    traning_feature = featureSelectionRFE(selector, traning_feature)\n",
    "    # we create an instance of Neighbours Classifier and fit the data.\n",
    "    logreg.fit(traning_feature, traning_label)\n",
    "    z=logreg.predict(testing_feature)\n",
    "    cm=confusion_matrix(testing_label,z)\n",
    "    confusionMatrixPrint(cm)\n",
    "    fpr, tpr, _ = roc_curve(testing_label,z)\n",
    "    print(fpr)\n",
    "    result = np.sum(testing_label.values.flatten() == z)/z.size\n",
    "    print(\"Accuracy:\",result*100)\n",
    "    plt.figure()\n",
    "    plt.plot(fpr, tpr, color='darkorange',\n",
    "              label='ROC curve')\n",
    "    plt.plot([0, 1], [0, 1], color='navy', linestyle='--')\n",
    "    plt.xlim([0.0, 1.0])\n",
    "    plt.ylim([0.0, 1.05])\n",
    "    plt.xlabel('False Positive Rate')\n",
    "    plt.ylabel('True Positive Rate')\n",
    "    plt.title('Receiver operating characteristic example')\n",
    "    plt.legend(loc=\"lower right\")\n",
    "    plt.show()\n",
    "    \n",
    "logistic_regressor(traning_feature, traning_label, testing_feature, testing_label)"
   ]
  },
  {
   "cell_type": "code",
   "execution_count": 66,
   "metadata": {},
   "outputs": [
    {
     "data": {
      "text/plain": [
       "array([0, 0, 0, ..., 0, 0, 0])"
      ]
     },
     "execution_count": 66,
     "metadata": {},
     "output_type": "execute_result"
    }
   ],
   "source": [
    "traning_label.values.flatten()"
   ]
  },
  {
   "cell_type": "code",
   "execution_count": 98,
   "metadata": {},
   "outputs": [
    {
     "name": "stdout",
     "output_type": "stream",
     "text": [
      "Accuracy: 61.6797695539\n"
     ]
    },
    {
     "data": {
      "image/png": "[encoded data removed]",
      "text/plain": [
       "<matplotlib.figure.Figure at 0x210137d6940>"
      ]
     },
     "metadata": {},
     "output_type": "display_data"
    }
   ],
   "source": [
    "\n",
    "cv = StratifiedKFold(n_splits=6)\n",
    "mean_tpr = 0.0\n",
    "mean_fpr = np.linspace(0, 1, 100)\n",
    "X = pd.concat([traning_feature,testing_feature]).values\n",
    "y = pd.concat([traning_label,testing_label]).values.flatten()\n",
    "colors = cycle(['cyan', 'indigo', 'seagreen', 'yellow', 'blue', 'darkorange'])\n",
    "lw = 2\n",
    "classifier = linear_model.LogisticRegression(class_weight='balanced',max_iter=200)\n",
    "i = 0\n",
    "for (train, test), color in zip(cv.split(X, y), colors):\n",
    "    probas_ = classifier.fit(X[train], y[train]).predict_proba(X[test])\n",
    "    z=classifier.predict(traning_feature)\n",
    "    result = np.sum(traning_label.values.flatten() == z)/z.size\n",
    "    \n",
    "    # Compute ROC curve and area the curve\n",
    "    fpr, tpr, thresholds = roc_curve(y[test], probas_[:, 1])\n",
    "    roc_auc = auc(fpr, tpr)\n",
    "    i += 1\n",
    "\n",
    "plt.plot(fpr, tpr, lw=lw, color=color,\n",
    "             label='ROC fold %d (area = %0.2f)' % (6, roc_auc))\n",
    "\n",
    "   \n",
    "plt.plot([0, 1], [0, 1], linestyle='--', lw=lw, color='k',\n",
    "         label='Luck')\n",
    "\n",
    "\n",
    "print(\"Accuracy:\",result*100)\n",
    "plt.xlim([-0.05, 1.05])\n",
    "plt.ylim([-0.05, 1.05])\n",
    "plt.xlabel('False Positive Rate')\n",
    "plt.ylabel('True Positive Rate')\n",
    "plt.title('Receiver operating characteristic example')\n",
    "plt.legend(loc=\"lower right\")\n",
    "plt.show()"
   ]
  },
  {
   "cell_type": "code",
   "execution_count": 52,
   "metadata": {},
   "outputs": [
    {
     "data": {
      "text/plain": [
       "1"
      ]
     },
     "execution_count": 52,
     "metadata": {},
     "output_type": "execute_result"
    }
   ],
   "source": [
    "z[0].size"
   ]
  },
  {
   "cell_type": "code",
   "execution_count": 35,
   "metadata": {},
   "outputs": [
    {
     "data": {
      "text/plain": [
       "array([0, 0, 0, ..., 0, 0, 0])"
      ]
     },
     "execution_count": 35,
     "metadata": {},
     "output_type": "execute_result"
    }
   ],
   "source": [
    "y.flatten()"
   ]
  },
  {
   "cell_type": "code",
   "execution_count": 33,
   "metadata": {},
   "outputs": [
    {
     "data": {
      "text/plain": [
       "array([0, 0, 0, 0, 0, 0, 0, 0, 0, 0, 0, 0, 0, 0, 0, 0, 0, 0, 0, 0, 0, 0, 0,\n",
       "       0, 0, 0, 0, 0, 0, 0, 0, 0, 0, 0, 0, 0, 0, 0, 0, 0, 0, 0, 0, 0, 0, 0,\n",
       "       0, 0, 0, 0, 1, 1, 1, 1, 1, 1, 1, 1, 1, 1, 1, 1, 1, 1, 1, 1, 1, 1, 1,\n",
       "       1, 1, 1, 1, 1, 1, 1, 1, 1, 1, 1, 1, 1, 1, 1, 1, 1, 1, 1, 1, 1, 1, 1,\n",
       "       1, 1, 1, 1, 1, 1, 1, 1])"
      ]
     },
     "execution_count": 33,
     "metadata": {},
     "output_type": "execute_result"
    }
   ],
   "source": [
    "y"
   ]
  },
  {
   "cell_type": "code",
   "execution_count": 19,
   "metadata": {},
   "outputs": [
    {
     "data": {
      "image/png": "[encoded data removed]",
      "text/plain": [
       "<matplotlib.figure.Figure at 0x2101131c2e8>"
      ]
     },
     "metadata": {},
     "output_type": "display_data"
    }
   ],
   "source": [
    "from sklearn.preprocessing import scale\n",
    "from sklearn.decomposition import PCA\n",
    "\n",
    "def start(data):\n",
    "    #data = pd.read_csv(\"C:/Users\\sup33\\Downloads/classify_feature_matrix.csv\")\n",
    "    #data=pd.get_dummies(data)\n",
    "    X = data.values\n",
    "    X=scale(X)\n",
    "\n",
    "\n",
    "    #Find the varience\n",
    "    pca=PCA(n_components=15)\n",
    "    pca.fit(X)\n",
    "    var=np.cumsum(np.round(pca.explained_variance_ratio_, decimals=4)*100)\n",
    "    var=pca.explained_variance_\n",
    "    eigen_val = var\n",
    "    #var=np.matrix(var).transpose()\n",
    "    #var=var[::-1]\n",
    "    #print(var)\n",
    "    #eigen_val = pca.explained_variance_\n",
    "    eigen_val=eigen_val/700\n",
    "    for index in range(1,len(eigen_val)):\n",
    "        eigen_val[index]+=eigen_val[index-1]\n",
    "    plt.plot(eigen_val)\n",
    "    plt.title(\"Varience of each attribute\")\n",
    "    plt.xlabel(\"Eigen Vector\")\n",
    "    plt.ylabel(\"Performance\")\n",
    "    plt.plot()\n",
    "    plt.show()\n",
    "start(traning_feature)"
   ]
  },
  {
   "cell_type": "code",
   "execution_count": 23,
   "metadata": {},
   "outputs": [
    {
     "name": "stdout",
     "output_type": "stream",
     "text": [
      "[[ -8.00343675e+04   1.29643592e+01]\n",
      " [ -8.00343680e+04   1.29635936e+01]\n",
      " [ -8.00343686e+04   1.29628280e+01]\n",
      " ..., \n",
      " [ -1.14441077e+05   7.89103731e+01]\n",
      " [ -1.14881306e+05   7.97577179e+01]\n",
      " [ -1.42034345e+05   1.32067850e+02]]\n"
     ]
    },
    {
     "data": {
      "image/png": "[encoded data removed]",
      "text/plain": [
       "<matplotlib.figure.Figure at 0x210131ed940>"
      ]
     },
     "metadata": {},
     "output_type": "display_data"
    }
   ],
   "source": [
    "pca = PCA(n_components=2)\n",
    "X = traning_feature\n",
    "#To project the data into the first 2 eigen vectors\n",
    "Y_sklearn =pca.fit_transform(X)\n",
    "plt.scatter(Y_sklearn[:,0],Y_sklearn[:,1])\n",
    "plt.xlabel(\"Eigen Vector 1\")\n",
    "plt.ylabel(\"Eigen Vector 2\")\n",
    "plt.title(\"Dimentionality redunction using PCA \")\n",
    "plt.show()"
   ]
  },
  {
   "cell_type": "code",
   "execution_count": 69,
   "metadata": {
    "scrolled": true
   },
   "outputs": [
    {
     "name": "stderr",
     "output_type": "stream",
     "text": [
      "C:\\ProgramData\\Anaconda3\\lib\\site-packages\\ipykernel_launcher.py:6: DataConversionWarning: A column-vector y was passed when a 1d array was expected. Please change the shape of y to (n_samples,), for example using ravel().\n",
      "  \n"
     ]
    },
    {
     "name": "stdout",
     "output_type": "stream",
     "text": [
      "[[858558      1]\n",
      " [     0  38906]]\n",
      "Accuracy: 99.999888575\n"
     ]
    },
    {
     "data": {
      "image/png": "[encoded data removed]",
      "text/plain": [
       "<matplotlib.figure.Figure at 0x21011b09a90>"
      ]
     },
     "metadata": {},
     "output_type": "display_data"
    }
   ],
   "source": [
    "# Ramdom forest\n",
    "def Random_forest_classification(training_feature, traning_label, testing_feature, testing_label):\n",
    "    rf = RandomForestClassifier()\n",
    "\n",
    "    # we create an instance of Neighbours Classifier and fit the data.\n",
    "    rf.fit(training_feature, traning_label)\n",
    "    z=rf.predict(testing_feature)\n",
    "    cm=confusion_matrix(testing_label,z)\n",
    "    confusionMatrixPrint(cm)\n",
    "    fpr, tpr, _ = roc_curve(testing_label,z)\n",
    "    result = np.sum(testing_label.values.flatten() == z)/z.size\n",
    "    print(\"Accuracy:\",result*100)\n",
    "    plt.plot(fpr, tpr, color='darkorange',\n",
    "              label='ROC curve')\n",
    "    plt.plot([0, 1], [0, 1], color='navy',  linestyle='--')\n",
    "    plt.plot([0, 0], [0, 1], color='darkorange',  linestyle='--')\n",
    "    plt.xlim([-0.1, 1.0])\n",
    "    plt.ylim([-0.1, 1.05])\n",
    "    plt.xlabel('False Positive Rate')\n",
    "    plt.ylabel('True Positive Rate')\n",
    "    plt.title('Receiver operating characteristic example')\n",
    "    plt.legend(loc=\"lower right\")\n",
    "    plt.show()\n",
    "    \n",
    "Random_forest_classification(traning_feature, traning_label, testing_feature, testing_label)"
   ]
  },
  {
   "cell_type": "code",
   "execution_count": 89,
   "metadata": {},
   "outputs": [
    {
     "name": "stderr",
     "output_type": "stream",
     "text": [
      "C:\\ProgramData\\Anaconda3\\lib\\site-packages\\sklearn\\neural_network\\multilayer_perceptron.py:904: DataConversionWarning: A column-vector y was passed when a 1d array was expected. Please change the shape of y to (n_samples, ), for example using ravel().\n",
      "  y = column_or_1d(y, warn=True)\n"
     ]
    },
    {
     "name": "stdout",
     "output_type": "stream",
     "text": [
      "[[858555      4]\n",
      " [ 38473    433]]\n",
      "Accuracy: 95.7127018881\n"
     ]
    },
    {
     "data": {
      "image/png": "[encoded data removed]",
      "text/plain": [
       "<matplotlib.figure.Figure at 0x210130d7278>"
      ]
     },
     "metadata": {},
     "output_type": "display_data"
    }
   ],
   "source": [
    "def Neural_net(training_feature, traning_label, testing_feature, testing_label):\n",
    "    nn = MLPClassifier(solver='adam', alpha=1e-6,hidden_layer_sizes=(10, 2), random_state=3, max_iter=300,warm_start=True)\n",
    "\n",
    "    # we create an instance of Neighbours Classifier and fit the data.\n",
    "    nn.fit(training_feature, traning_label)\n",
    "    z=nn.predict(testing_feature)\n",
    "    print(confusion_matrix(testing_label,z))\n",
    "    fpr, tpr, _ = roc_curve(testing_label,z)\n",
    "    result = np.sum(testing_label.values.flatten() == z)/z.size\n",
    "    print(\"Accuracy:\",result*100)\n",
    "    plt.plot(fpr, tpr, color='darkorange',\n",
    "              label='ROC curve')\n",
    "    plt.plot([0, 1], [0, 1], color='navy',  linestyle='--')\n",
    "    plt.xlim([0.0, 1.0])\n",
    "    plt.ylim([0.0, 1.05])\n",
    "    plt.xlabel('False Positive Rate')\n",
    "    plt.ylabel('True Positive Rate')\n",
    "    plt.title('Receiver operating characteristic example')\n",
    "    plt.legend(loc=\"lower right\")\n",
    "    plt.show()\n",
    "    \n",
    "Neural_net(traning_feature, traning_label, testing_feature, testing_label)"
   ]
  },
  {
   "cell_type": "code",
   "execution_count": 85,
   "metadata": {},
   "outputs": [
    {
     "name": "stdout",
     "output_type": "stream",
     "text": [
      "Accuracy: 95.6252931764\n",
      "Accuracy: 95.5745932905\n",
      "Accuracy: 95.6055765541\n",
      "Accuracy: 95.6285431691\n",
      "Accuracy: 95.6287598353\n",
      "Accuracy: 95.6169515285\n"
     ]
    },
    {
     "data": {
      "image/png": "[encoded data removed]",
      "text/plain": [
       "<matplotlib.figure.Figure at 0x210137b06a0>"
      ]
     },
     "metadata": {},
     "output_type": "display_data"
    }
   ],
   "source": [
    "cv = StratifiedKFold(n_splits=6)\n",
    "mean_tpr = 0.0\n",
    "mean_fpr = np.linspace(0, 1, 100)\n",
    "X = pd.concat([traning_feature,testing_feature]).values\n",
    "y = pd.concat([traning_label,testing_label]).values.flatten()\n",
    "colors = cycle(['cyan', 'indigo', 'seagreen', 'yellow', 'blue', 'darkorange'])\n",
    "lw = 2\n",
    "classifier = MLPClassifier(solver='adam', alpha=1e-4,hidden_layer_sizes=(10, 2), random_state=3)\n",
    "i = 0\n",
    "for (train, test), color in zip(cv.split(X, y), colors):\n",
    "    probas_ = classifier.fit(X[train], y[train]).predict_proba(X[test])\n",
    "    z=classifier.predict(traning_feature)\n",
    "    result = np.sum(traning_label.values.flatten() == z)/z.size\n",
    "    # Compute ROC curve and area the curve\n",
    "    fpr, tpr, thresholds = roc_curve(y[test], probas_[:, 1])\n",
    "    roc_auc = auc(fpr, tpr)\n",
    "    plt.plot(fpr, tpr, lw=lw, color=color,\n",
    "             label='ROC fold %d (area = %0.2f)' % (i, roc_auc))\n",
    "\n",
    "    i += 1\n",
    "cm=confusion_matrix(testing_label,z)\n",
    "confusionMatrixPrint(cm)    \n",
    "print(\"Accuracy:\",result*100)\n",
    "plt.plot([0, 1], [0, 1], linestyle='--', lw=lw, color='k',\n",
    "         label='Luck')\n",
    "plt.xlim([-0.05, 1.05])\n",
    "plt.ylim([-0.05, 1.05])\n",
    "plt.xlabel('False Positive Rate')\n",
    "plt.ylabel('True Positive Rate')\n",
    "plt.title('Receiver operating characteristic example')\n",
    "plt.legend(loc=\"lower right\")\n",
    "plt.show()"
   ]
  },
  {
   "cell_type": "code",
   "execution_count": null,
   "metadata": {
    "collapsed": true
   },
   "outputs": [],
   "source": []
  }
 ],
 "metadata": {
  "kernelspec": {
   "display_name": "Python 3",
   "language": "python",
   "name": "python3"
  },
  "language_info": {
   "codemirror_mode": {
    "name": "ipython",
    "version": 3
   },
   "file_extension": ".py",
   "mimetype": "text/x-python",
   "name": "python",
   "nbconvert_exporter": "python",
   "pygments_lexer": "ipython3",
   "version": "3.6.1"
  }
 },
 "nbformat": 4,
 "nbformat_minor": 2
}
