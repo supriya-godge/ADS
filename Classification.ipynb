{
 "cells": [
  {
   "cell_type": "code",
   "execution_count": 1,
   "metadata": {},
   "outputs": [
    {
     "name": "stderr",
     "output_type": "stream",
     "text": [
      "C:\\ProgramData\\Anaconda3\\lib\\site-packages\\sklearn\\cross_validation.py:44: DeprecationWarning: This module was deprecated in version 0.18 in favor of the model_selection module into which all the refactored classes and functions are moved. Also note that the interface of the new CV iterators are different from that of this module. This module will be removed in 0.20.\n",
      "  \"This module will be removed in 0.20.\", DeprecationWarning)\n",
      "C:\\ProgramData\\Anaconda3\\lib\\site-packages\\sklearn\\grid_search.py:43: DeprecationWarning: This module was deprecated in version 0.18 in favor of the model_selection module into which all the refactored classes and functions are moved. This module will be removed in 0.20.\n",
      "  DeprecationWarning)\n",
      "C:\\ProgramData\\Anaconda3\\lib\\site-packages\\sklearn\\lda.py:6: DeprecationWarning: lda.LDA has been moved to discriminant_analysis.LinearDiscriminantAnalysis in 0.17 and will be removed in 0.19\n",
      "  \"in 0.17 and will be removed in 0.19\", DeprecationWarning)\n",
      "C:\\ProgramData\\Anaconda3\\lib\\site-packages\\sklearn\\learning_curve.py:23: DeprecationWarning: This module was deprecated in version 0.18 in favor of the model_selection module into which all the functions are moved. This module will be removed in 0.20\n",
      "  DeprecationWarning)\n",
      "C:\\ProgramData\\Anaconda3\\lib\\site-packages\\sklearn\\qda.py:6: DeprecationWarning: qda.QDA has been moved to discriminant_analysis.QuadraticDiscriminantAnalysis in 0.17 and will be removed in 0.19.\n",
      "  \"in 0.17 and will be removed in 0.19.\", DeprecationWarning)\n"
     ]
    }
   ],
   "source": [
    "import pandas as pd\n",
    "import warnings\n",
    "from sklearn.utils import ConvergenceWarning\n",
    "import numpy as np\n",
    "import requests\n",
    "import re\n",
    "import os\n",
    "import glob\n",
    "import csv\n",
    "import numpy as np\n",
    "import scipy, scipy.stats\n",
    "import sklearn\n",
    "from sklearn import *\n",
    "lm=linear_model.LinearRegression()\n",
    "import statsmodels.formula.api as sm\n",
    "import matplotlib.pyplot as plt\n",
    "import math\n",
    "%matplotlib inline\n",
    "from numpy import genfromtxt\n",
    "from sklearn import datasets, linear_model\n",
    "from sklearn.ensemble import RandomForestRegressor\n",
    "#from sklearn.neural_network import MLPRegressor\n",
    "from sklearn.metrics import mean_absolute_error\n",
    "from sklearn.metrics import mean_squared_error\n",
    "import seaborn as sns\n",
    "from sklearn.neural_network import MLPRegressor\n",
    "from sklearn.neural_network import MLPClassifier\n",
    "from  sklearn.metrics import confusion_matrix\n",
    "from sklearn.metrics import roc_curve, auc"
   ]
  },
  {
   "cell_type": "code",
   "execution_count": 2,
   "metadata": {},
   "outputs": [
    {
     "name": "stdout",
     "output_type": "stream",
     "text": [
      "Path:  C:\\Users\\Administrator\\midterm\n"
     ]
    }
   ],
   "source": [
    "homedir = os.path.expanduser(\"~\")\n",
    "path_to_midterm = homedir+\"\\\\midterm\"\n",
    "print(\"Path: \",path_to_midterm)"
   ]
  },
  {
   "cell_type": "code",
   "execution_count": 3,
   "metadata": {
    "collapsed": true
   },
   "outputs": [],
   "source": [
    "def performance_fillNA(perf_df):\n",
    "    perf_df['curr_ln_delin_status'] = perf_df['curr_ln_delin_status'].fillna(0)\n",
    "    perf_df['repurch_flag']=perf_df['repurch_flag'].fillna('Unknown')\n",
    "    perf_df['mod_flag']=perf_df['mod_flag'].fillna('N')\n",
    "    perf_df['zero_bal_cd']=perf_df['zero_bal_cd'].fillna(00)\n",
    "    perf_df['zero_bal_eff_dt']=perf_df['zero_bal_eff_dt'].fillna('199601')\n",
    "    perf_df['current_dupb']=perf_df['current_dupb'].fillna(0)\n",
    "    perf_df['lst_pd_inst_duedt']=perf_df['lst_pd_inst_duedt'].fillna('199601')\n",
    "    perf_df['mi_recoveries']=perf_df['mi_recoveries'].fillna(0)\n",
    "    perf_df['net_sale_proceeds']=perf_df['net_sale_proceeds'].fillna('U')\n",
    "    perf_df['non_mi_recoveries']=perf_df['non_mi_recoveries'].fillna(0)\n",
    "    perf_df['expenses']=perf_df['expenses'].fillna(0)\n",
    "    perf_df['legal_costs']=perf_df['legal_costs'].fillna(0)\n",
    "    perf_df['maint_pres_costs']=perf_df['maint_pres_costs'].fillna(0)\n",
    "    perf_df['taxes_and_insur']=perf_df['taxes_and_insur'].fillna(0)\n",
    "    perf_df['misc_expenses']=perf_df['misc_expenses'].fillna(0)\n",
    "    perf_df['actual_loss_calc']=perf_df['actual_loss_calc'].fillna(0)\n",
    "    perf_df['mod_cost']=perf_df['mod_cost'].fillna(0)\n",
    "    \n",
    "    return perf_df"
   ]
  },
  {
   "cell_type": "code",
   "execution_count": 4,
   "metadata": {
    "collapsed": true
   },
   "outputs": [],
   "source": [
    "def changeperformancedatatype(perf_df):\n",
    "        perf_df[['curr_ln_delin_status','loan_age','remng_mon_to_leg_matur','zero_bal_cd','current_dupb',\\\n",
    "                 'actual_loss_calc']] = perf_df[['curr_ln_delin_status','loan_age','remng_mon_to_leg_matur',\\\n",
    "                                                 'zero_bal_cd','current_dupb','actual_loss_calc']].astype('int64')\n",
    "\n",
    "        perf_df[['mon_rpt_prd','zero_bal_eff_dt','lst_pd_inst_duedt']] = perf_df[['mon_rpt_prd','zero_bal_eff_dt',\\\n",
    "                                                                                  'lst_pd_inst_duedt']].astype('str')\n",
    "        return perf_df"
   ]
  },
  {
   "cell_type": "code",
   "execution_count": 5,
   "metadata": {},
   "outputs": [
    {
     "name": "stdout",
     "output_type": "stream",
     "text": [
      "Started\n",
      "DataFrame creation started!!\n",
      "DataFrame created!!\n",
      "Completed!!\n"
     ]
    }
   ],
   "source": [
    "download_path = path_to_midterm+\"\\\\\"+\"2005_sample\\\\\" \n",
    "def constructperformancecsv():\n",
    "    print(\"Started\")\n",
    "    writeHeader1 = True\n",
    "    filename = \"HistoricalperformanceCombined.csv\"\n",
    "    final_sample = pd.DataFrame()\n",
    "    for subdir,dirs, files in os.walk(download_path):\n",
    "        for file in files:\n",
    "            if 'sample_svcg_' in file:\n",
    "                temp_list = []\n",
    "                chunksize = 10 ** 6\n",
    "                for chunk in pd.read_csv(os.path.join(subdir,file) ,sep=\"|\", \\\n",
    "                                         skipinitialspace=True, chunksize=chunksize, low_memory=False, header=None):\n",
    "                    temp_list.append(chunk)\n",
    "                print('DataFrame creation started!!')\n",
    "                frames = []\n",
    "                for df in temp_list:\n",
    "                    frames.append(df)\n",
    "                sample_df = pd.concat(frames)\n",
    "                sample_df.columns = ['id_loan','mon_rpt_prd','current_aupb','curr_ln_delin_status',\\\n",
    "                                     'loan_age','remng_mon_to_leg_matur', 'repurch_flag','mod_flag', \\\n",
    "                                     'zero_bal_cd', 'zero_bal_eff_dt','current_int_rte','current_dupb',\\\n",
    "                                     'lst_pd_inst_duedt','mi_recoveries', 'net_sale_proceeds',\\\n",
    "                                     'non_mi_recoveries','expenses', 'legal_costs', 'maint_pres_costs',\\\n",
    "                                     'taxes_and_insur','misc_expenses','actual_loss_calc', 'mod_cost']\n",
    "                print('DataFrame created!!')\n",
    "\n",
    "                sample_df['curr_ln_delin_status'] = [999 if x=='R' else x for x in \\\n",
    "                                                   (sample_df['curr_ln_delin_status'].apply(lambda x: x))]\n",
    "                sample_df['curr_ln_delin_status'] = [0 if x=='XX' else x for x in \\\n",
    "                                                   (sample_df['curr_ln_delin_status'].apply(lambda x: x))]\n",
    "                sample_df = performance_fillNA(sample_df)\n",
    "                sample_df = changeperformancedatatype(sample_df)\n",
    "                \n",
    "                sample_df['Year'] = ['19'+x if x=='99' else '20'+x for x in (sample_df['id_loan'].apply(lambda x: x[2:4]))]\n",
    "                sample_df['Quarter'] =sample_df['id_loan'].apply(lambda x: x[4:6])\n",
    "                print(\"Completed!!\")\n",
    "                \n",
    "                final_sample=pd.concat([final_sample, sample_df])\n",
    "    return final_sample\n",
    "\n",
    "\n",
    "Performance_data=constructperformancecsv()"
   ]
  },
  {
   "cell_type": "code",
   "execution_count": 7,
   "metadata": {},
   "outputs": [
    {
     "data": {
      "text/html": [
       "<div>\n",
       "<style>\n",
       "    .dataframe thead tr:only-child th {\n",
       "        text-align: right;\n",
       "    }\n",
       "\n",
       "    .dataframe thead th {\n",
       "        text-align: left;\n",
       "    }\n",
       "\n",
       "    .dataframe tbody tr th {\n",
       "        vertical-align: top;\n",
       "    }\n",
       "</style>\n",
       "<table border=\"1\" class=\"dataframe\">\n",
       "  <thead>\n",
       "    <tr style=\"text-align: right;\">\n",
       "      <th></th>\n",
       "      <th>id_loan</th>\n",
       "      <th>mon_rpt_prd</th>\n",
       "      <th>current_aupb</th>\n",
       "      <th>curr_ln_delin_status</th>\n",
       "      <th>loan_age</th>\n",
       "      <th>remng_mon_to_leg_matur</th>\n",
       "      <th>repurch_flag</th>\n",
       "      <th>mod_flag</th>\n",
       "      <th>zero_bal_cd</th>\n",
       "      <th>zero_bal_eff_dt</th>\n",
       "      <th>...</th>\n",
       "      <th>non_mi_recoveries</th>\n",
       "      <th>expenses</th>\n",
       "      <th>legal_costs</th>\n",
       "      <th>maint_pres_costs</th>\n",
       "      <th>taxes_and_insur</th>\n",
       "      <th>misc_expenses</th>\n",
       "      <th>actual_loss_calc</th>\n",
       "      <th>mod_cost</th>\n",
       "      <th>Year</th>\n",
       "      <th>Quarter</th>\n",
       "    </tr>\n",
       "  </thead>\n",
       "  <tbody>\n",
       "    <tr>\n",
       "      <th>3574029</th>\n",
       "      <td>F105Q4404780</td>\n",
       "      <td>201508</td>\n",
       "      <td>107846.21</td>\n",
       "      <td>0</td>\n",
       "      <td>117</td>\n",
       "      <td>243</td>\n",
       "      <td>Unknown</td>\n",
       "      <td>N</td>\n",
       "      <td>0</td>\n",
       "      <td>199601</td>\n",
       "      <td>...</td>\n",
       "      <td>0.0</td>\n",
       "      <td>0.0</td>\n",
       "      <td>0.0</td>\n",
       "      <td>0.0</td>\n",
       "      <td>0.0</td>\n",
       "      <td>0.0</td>\n",
       "      <td>0</td>\n",
       "      <td>0.0</td>\n",
       "      <td>2005</td>\n",
       "      <td>Q4</td>\n",
       "    </tr>\n",
       "    <tr>\n",
       "      <th>3574030</th>\n",
       "      <td>F105Q4404780</td>\n",
       "      <td>201509</td>\n",
       "      <td>107565.45</td>\n",
       "      <td>0</td>\n",
       "      <td>118</td>\n",
       "      <td>242</td>\n",
       "      <td>Unknown</td>\n",
       "      <td>N</td>\n",
       "      <td>0</td>\n",
       "      <td>199601</td>\n",
       "      <td>...</td>\n",
       "      <td>0.0</td>\n",
       "      <td>0.0</td>\n",
       "      <td>0.0</td>\n",
       "      <td>0.0</td>\n",
       "      <td>0.0</td>\n",
       "      <td>0.0</td>\n",
       "      <td>0</td>\n",
       "      <td>0.0</td>\n",
       "      <td>2005</td>\n",
       "      <td>Q4</td>\n",
       "    </tr>\n",
       "    <tr>\n",
       "      <th>3574031</th>\n",
       "      <td>F105Q4404780</td>\n",
       "      <td>201510</td>\n",
       "      <td>107283.69</td>\n",
       "      <td>0</td>\n",
       "      <td>119</td>\n",
       "      <td>241</td>\n",
       "      <td>Unknown</td>\n",
       "      <td>N</td>\n",
       "      <td>0</td>\n",
       "      <td>199601</td>\n",
       "      <td>...</td>\n",
       "      <td>0.0</td>\n",
       "      <td>0.0</td>\n",
       "      <td>0.0</td>\n",
       "      <td>0.0</td>\n",
       "      <td>0.0</td>\n",
       "      <td>0.0</td>\n",
       "      <td>0</td>\n",
       "      <td>0.0</td>\n",
       "      <td>2005</td>\n",
       "      <td>Q4</td>\n",
       "    </tr>\n",
       "    <tr>\n",
       "      <th>3574032</th>\n",
       "      <td>F105Q4404780</td>\n",
       "      <td>201511</td>\n",
       "      <td>107000.93</td>\n",
       "      <td>0</td>\n",
       "      <td>120</td>\n",
       "      <td>240</td>\n",
       "      <td>Unknown</td>\n",
       "      <td>N</td>\n",
       "      <td>0</td>\n",
       "      <td>199601</td>\n",
       "      <td>...</td>\n",
       "      <td>0.0</td>\n",
       "      <td>0.0</td>\n",
       "      <td>0.0</td>\n",
       "      <td>0.0</td>\n",
       "      <td>0.0</td>\n",
       "      <td>0.0</td>\n",
       "      <td>0</td>\n",
       "      <td>0.0</td>\n",
       "      <td>2005</td>\n",
       "      <td>Q4</td>\n",
       "    </tr>\n",
       "    <tr>\n",
       "      <th>3574033</th>\n",
       "      <td>F105Q4404780</td>\n",
       "      <td>201512</td>\n",
       "      <td>0.00</td>\n",
       "      <td>0</td>\n",
       "      <td>121</td>\n",
       "      <td>239</td>\n",
       "      <td>N</td>\n",
       "      <td>N</td>\n",
       "      <td>1</td>\n",
       "      <td>201512.0</td>\n",
       "      <td>...</td>\n",
       "      <td>0.0</td>\n",
       "      <td>0.0</td>\n",
       "      <td>0.0</td>\n",
       "      <td>0.0</td>\n",
       "      <td>0.0</td>\n",
       "      <td>0.0</td>\n",
       "      <td>0</td>\n",
       "      <td>0.0</td>\n",
       "      <td>2005</td>\n",
       "      <td>Q4</td>\n",
       "    </tr>\n",
       "  </tbody>\n",
       "</table>\n",
       "<p>5 rows × 25 columns</p>\n",
       "</div>"
      ],
      "text/plain": [
       "              id_loan mon_rpt_prd  current_aupb  curr_ln_delin_status  \\\n",
       "3574029  F105Q4404780      201508     107846.21                     0   \n",
       "3574030  F105Q4404780      201509     107565.45                     0   \n",
       "3574031  F105Q4404780      201510     107283.69                     0   \n",
       "3574032  F105Q4404780      201511     107000.93                     0   \n",
       "3574033  F105Q4404780      201512          0.00                     0   \n",
       "\n",
       "         loan_age  remng_mon_to_leg_matur repurch_flag mod_flag  zero_bal_cd  \\\n",
       "3574029       117                     243      Unknown        N            0   \n",
       "3574030       118                     242      Unknown        N            0   \n",
       "3574031       119                     241      Unknown        N            0   \n",
       "3574032       120                     240      Unknown        N            0   \n",
       "3574033       121                     239            N        N            1   \n",
       "\n",
       "        zero_bal_eff_dt   ...     non_mi_recoveries  expenses legal_costs  \\\n",
       "3574029          199601   ...                   0.0       0.0         0.0   \n",
       "3574030          199601   ...                   0.0       0.0         0.0   \n",
       "3574031          199601   ...                   0.0       0.0         0.0   \n",
       "3574032          199601   ...                   0.0       0.0         0.0   \n",
       "3574033        201512.0   ...                   0.0       0.0         0.0   \n",
       "\n",
       "         maint_pres_costs taxes_and_insur  misc_expenses  actual_loss_calc  \\\n",
       "3574029               0.0             0.0            0.0                 0   \n",
       "3574030               0.0             0.0            0.0                 0   \n",
       "3574031               0.0             0.0            0.0                 0   \n",
       "3574032               0.0             0.0            0.0                 0   \n",
       "3574033               0.0             0.0            0.0                 0   \n",
       "\n",
       "         mod_cost  Year  Quarter  \n",
       "3574029       0.0  2005       Q4  \n",
       "3574030       0.0  2005       Q4  \n",
       "3574031       0.0  2005       Q4  \n",
       "3574032       0.0  2005       Q4  \n",
       "3574033       0.0  2005       Q4  \n",
       "\n",
       "[5 rows x 25 columns]"
      ]
     },
     "execution_count": 7,
     "metadata": {},
     "output_type": "execute_result"
    }
   ],
   "source": [
    "Performance_data.tail()"
   ]
  },
  {
   "cell_type": "code",
   "execution_count": 8,
   "metadata": {
    "collapsed": true
   },
   "outputs": [],
   "source": [
    "def statusUpdate(df):\n",
    "    df['delinquent'] = (df.curr_ln_delin_status > 0).astype(int)\n",
    "    #df.drop('max_curr_ln_delin_status', axis = 1,inplace=True)\n",
    "    df.drop('curr_ln_delin_status', axis = 1,inplace=True)\n",
    "    #df.drop('Year',axis=1,inplace=True) #Duplicate\n",
    "    #df.drop('Quarter',axis=1,inplace=True) #Duplicate\n",
    "    return df"
   ]
  },
  {
   "cell_type": "code",
   "execution_count": 9,
   "metadata": {
    "collapsed": true
   },
   "outputs": [],
   "source": [
    "Performace_data = statusUpdate(Performance_data)\n"
   ]
  },
  {
   "cell_type": "code",
   "execution_count": 10,
   "metadata": {
    "collapsed": true
   },
   "outputs": [],
   "source": [
    "def splitting(df,label):\n",
    "    df_features = df.ix[:, df.columns != label]\n",
    "    df_target = df.ix[:, df.columns == label]\n",
    "    return df_features,df_target"
   ]
  },
  {
   "cell_type": "code",
   "execution_count": 11,
   "metadata": {},
   "outputs": [
    {
     "data": {
      "text/plain": [
       "89350850"
      ]
     },
     "execution_count": 11,
     "metadata": {},
     "output_type": "execute_result"
    }
   ],
   "source": [
    "Performace_data.size"
   ]
  },
  {
   "cell_type": "code",
   "execution_count": 12,
   "metadata": {},
   "outputs": [],
   "source": [
    "def dataSplit(Performace_data,label):\n",
    "    label = 'delinquent'\n",
    "    #print(Performace_data.head())\n",
    "    Hist_numeric_2005_Q1 = Performace_data[(Performace_data['Year']=='2005') & (Performace_data['Quarter']=='Q1')]\n",
    "    Hist_numeric_2005_Q1=Hist_numeric_2005_Q1._get_numeric_data()\n",
    "\n",
    "\n",
    "    Hist_numeric_2005_Q2 = Performace_data[(Performace_data['Year']=='2005') & (Performace_data['Quarter']=='Q2')]\n",
    "    Hist_numeric_2005_Q2=Hist_numeric_2005_Q2._get_numeric_data()\n",
    "    #print(Hist_numeric_2005_Q2.head())\n",
    "\n",
    "    Hist_numeric_2005_Q1_features,Hist_numeric_2005_Q1_target = splitting(Hist_numeric_2005_Q1,label)\n",
    "    Hist_numeric_2005_Q2_features,Hist_numeric_2005_Q2_target = splitting(Hist_numeric_2005_Q2,label)\n",
    "    return Hist_numeric_2005_Q1_features,Hist_numeric_2005_Q1_target, Hist_numeric_2005_Q2_features,Hist_numeric_2005_Q2_target"
   ]
  },
  {
   "cell_type": "code",
   "execution_count": 14,
   "metadata": {},
   "outputs": [
    {
     "name": "stdout",
     "output_type": "stream",
     "text": [
      "        current_aupb  loan_age  remng_mon_to_leg_matur  zero_bal_cd  \\\n",
      "923079      150000.0         0                     360            0   \n",
      "923080      150000.0         1                     359            0   \n",
      "923081      149000.0         2                     358            0   \n",
      "923082      149000.0         3                     357            0   \n",
      "923083      149000.0         4                     356            0   \n",
      "\n",
      "        current_int_rte  current_dupb  mi_recoveries  non_mi_recoveries  \\\n",
      "923079             5.75             0            0.0                0.0   \n",
      "923080             5.75             0            0.0                0.0   \n",
      "923081             5.75             0            0.0                0.0   \n",
      "923082             5.75             0            0.0                0.0   \n",
      "923083             5.75             0            0.0                0.0   \n",
      "\n",
      "        expenses  legal_costs  maint_pres_costs  taxes_and_insur  \\\n",
      "923079       0.0          0.0               0.0              0.0   \n",
      "923080       0.0          0.0               0.0              0.0   \n",
      "923081       0.0          0.0               0.0              0.0   \n",
      "923082       0.0          0.0               0.0              0.0   \n",
      "923083       0.0          0.0               0.0              0.0   \n",
      "\n",
      "        misc_expenses  actual_loss_calc  mod_cost  delinquent  \n",
      "923079            0.0                 0       0.0           0  \n",
      "923080            0.0                 0       0.0           0  \n",
      "923081            0.0                 0       0.0           0  \n",
      "923082            0.0                 0       0.0           0  \n",
      "923083            0.0                 0       0.0           0  \n"
     ]
    },
    {
     "name": "stderr",
     "output_type": "stream",
     "text": [
      "C:\\ProgramData\\Anaconda3\\lib\\site-packages\\ipykernel_launcher.py:2: DeprecationWarning: \n",
      ".ix is deprecated. Please use\n",
      ".loc for label based indexing or\n",
      ".iloc for positional indexing\n",
      "\n",
      "See the documentation here:\n",
      "http://pandas.pydata.org/pandas-docs/stable/indexing.html#deprecate_ix\n",
      "  \n"
     ]
    }
   ],
   "source": [
    "\n",
    "traning_feature,traning_label,testing_feature,testing_label=dataSplit(Performace_data,'delinquent')"
   ]
  },
  {
   "cell_type": "code",
   "execution_count": 15,
   "metadata": {},
   "outputs": [
    {
     "data": {
      "text/html": [
       "<div>\n",
       "<style>\n",
       "    .dataframe thead tr:only-child th {\n",
       "        text-align: right;\n",
       "    }\n",
       "\n",
       "    .dataframe thead th {\n",
       "        text-align: left;\n",
       "    }\n",
       "\n",
       "    .dataframe tbody tr th {\n",
       "        vertical-align: top;\n",
       "    }\n",
       "</style>\n",
       "<table border=\"1\" class=\"dataframe\">\n",
       "  <thead>\n",
       "    <tr style=\"text-align: right;\">\n",
       "      <th></th>\n",
       "      <th>current_aupb</th>\n",
       "      <th>loan_age</th>\n",
       "      <th>remng_mon_to_leg_matur</th>\n",
       "      <th>zero_bal_cd</th>\n",
       "      <th>current_int_rte</th>\n",
       "      <th>current_dupb</th>\n",
       "      <th>mi_recoveries</th>\n",
       "      <th>non_mi_recoveries</th>\n",
       "      <th>expenses</th>\n",
       "      <th>legal_costs</th>\n",
       "      <th>maint_pres_costs</th>\n",
       "      <th>taxes_and_insur</th>\n",
       "      <th>misc_expenses</th>\n",
       "      <th>actual_loss_calc</th>\n",
       "      <th>mod_cost</th>\n",
       "    </tr>\n",
       "  </thead>\n",
       "  <tbody>\n",
       "    <tr>\n",
       "      <th>923079</th>\n",
       "      <td>150000.0</td>\n",
       "      <td>0</td>\n",
       "      <td>360</td>\n",
       "      <td>0</td>\n",
       "      <td>5.75</td>\n",
       "      <td>0</td>\n",
       "      <td>0.0</td>\n",
       "      <td>0.0</td>\n",
       "      <td>0.0</td>\n",
       "      <td>0.0</td>\n",
       "      <td>0.0</td>\n",
       "      <td>0.0</td>\n",
       "      <td>0.0</td>\n",
       "      <td>0</td>\n",
       "      <td>0.0</td>\n",
       "    </tr>\n",
       "    <tr>\n",
       "      <th>923080</th>\n",
       "      <td>150000.0</td>\n",
       "      <td>1</td>\n",
       "      <td>359</td>\n",
       "      <td>0</td>\n",
       "      <td>5.75</td>\n",
       "      <td>0</td>\n",
       "      <td>0.0</td>\n",
       "      <td>0.0</td>\n",
       "      <td>0.0</td>\n",
       "      <td>0.0</td>\n",
       "      <td>0.0</td>\n",
       "      <td>0.0</td>\n",
       "      <td>0.0</td>\n",
       "      <td>0</td>\n",
       "      <td>0.0</td>\n",
       "    </tr>\n",
       "    <tr>\n",
       "      <th>923081</th>\n",
       "      <td>149000.0</td>\n",
       "      <td>2</td>\n",
       "      <td>358</td>\n",
       "      <td>0</td>\n",
       "      <td>5.75</td>\n",
       "      <td>0</td>\n",
       "      <td>0.0</td>\n",
       "      <td>0.0</td>\n",
       "      <td>0.0</td>\n",
       "      <td>0.0</td>\n",
       "      <td>0.0</td>\n",
       "      <td>0.0</td>\n",
       "      <td>0.0</td>\n",
       "      <td>0</td>\n",
       "      <td>0.0</td>\n",
       "    </tr>\n",
       "    <tr>\n",
       "      <th>923082</th>\n",
       "      <td>149000.0</td>\n",
       "      <td>3</td>\n",
       "      <td>357</td>\n",
       "      <td>0</td>\n",
       "      <td>5.75</td>\n",
       "      <td>0</td>\n",
       "      <td>0.0</td>\n",
       "      <td>0.0</td>\n",
       "      <td>0.0</td>\n",
       "      <td>0.0</td>\n",
       "      <td>0.0</td>\n",
       "      <td>0.0</td>\n",
       "      <td>0.0</td>\n",
       "      <td>0</td>\n",
       "      <td>0.0</td>\n",
       "    </tr>\n",
       "    <tr>\n",
       "      <th>923083</th>\n",
       "      <td>149000.0</td>\n",
       "      <td>4</td>\n",
       "      <td>356</td>\n",
       "      <td>0</td>\n",
       "      <td>5.75</td>\n",
       "      <td>0</td>\n",
       "      <td>0.0</td>\n",
       "      <td>0.0</td>\n",
       "      <td>0.0</td>\n",
       "      <td>0.0</td>\n",
       "      <td>0.0</td>\n",
       "      <td>0.0</td>\n",
       "      <td>0.0</td>\n",
       "      <td>0</td>\n",
       "      <td>0.0</td>\n",
       "    </tr>\n",
       "  </tbody>\n",
       "</table>\n",
       "</div>"
      ],
      "text/plain": [
       "        current_aupb  loan_age  remng_mon_to_leg_matur  zero_bal_cd  \\\n",
       "923079      150000.0         0                     360            0   \n",
       "923080      150000.0         1                     359            0   \n",
       "923081      149000.0         2                     358            0   \n",
       "923082      149000.0         3                     357            0   \n",
       "923083      149000.0         4                     356            0   \n",
       "\n",
       "        current_int_rte  current_dupb  mi_recoveries  non_mi_recoveries  \\\n",
       "923079             5.75             0            0.0                0.0   \n",
       "923080             5.75             0            0.0                0.0   \n",
       "923081             5.75             0            0.0                0.0   \n",
       "923082             5.75             0            0.0                0.0   \n",
       "923083             5.75             0            0.0                0.0   \n",
       "\n",
       "        expenses  legal_costs  maint_pres_costs  taxes_and_insur  \\\n",
       "923079       0.0          0.0               0.0              0.0   \n",
       "923080       0.0          0.0               0.0              0.0   \n",
       "923081       0.0          0.0               0.0              0.0   \n",
       "923082       0.0          0.0               0.0              0.0   \n",
       "923083       0.0          0.0               0.0              0.0   \n",
       "\n",
       "        misc_expenses  actual_loss_calc  mod_cost  \n",
       "923079            0.0                 0       0.0  \n",
       "923080            0.0                 0       0.0  \n",
       "923081            0.0                 0       0.0  \n",
       "923082            0.0                 0       0.0  \n",
       "923083            0.0                 0       0.0  "
      ]
     },
     "execution_count": 15,
     "metadata": {},
     "output_type": "execute_result"
    }
   ],
   "source": [
    "testing_feature.head()"
   ]
  },
  {
   "cell_type": "code",
   "execution_count": 68,
   "metadata": {},
   "outputs": [
    {
     "name": "stderr",
     "output_type": "stream",
     "text": [
      "C:\\ProgramData\\Anaconda3\\lib\\site-packages\\sklearn\\utils\\validation.py:526: DataConversionWarning: A column-vector y was passed when a 1d array was expected. Please change the shape of y to (n_samples, ), for example using ravel().\n",
      "  y = column_or_1d(y, warn=True)\n"
     ]
    },
    {
     "name": "stdout",
     "output_type": "stream",
     "text": [
      "[[560285 321926]\n",
      " [ 12218  28650]]\n",
      "[ 0.          0.36490817  1.        ]\n",
      "Accuracy: 63.8011481141\n"
     ]
    },
    {
     "data": {
      "image/png": "[encoded data removed]",
      "text/plain": [
       "<matplotlib.figure.Figure at 0x1cb018e6cf8>"
      ]
     },
     "metadata": {},
     "output_type": "display_data"
    }
   ],
   "source": [
    "#def logistic_regressor(traning_feature, traning_label, testing_feature, testing_label):\n",
    "logreg = linear_model.LogisticRegression(class_weight='balanced',max_iter=200)\n",
    "\n",
    "# we create an instance of Neighbours Classifier and fit the data.\n",
    "logreg.fit(traning_feature, traning_label)\n",
    "z=logreg.predict(traning_feature)\n",
    "print(confusion_matrix(traning_label,z))\n",
    "fpr, tpr, _ = roc_curve(traning_label,z)\n",
    "print(fpr)\n",
    "result = np.sum(traning_label.values.flatten() == z)/z.size\n",
    "print(\"Accuracy:\",result*100)\n",
    "plt.figure()\n",
    "plt.plot(fpr, tpr, color='darkorange',\n",
    "          label='ROC curve')\n",
    "plt.plot([0, 1], [0, 1], color='navy', linestyle='--')\n",
    "plt.xlim([0.0, 1.0])\n",
    "plt.ylim([0.0, 1.05])\n",
    "plt.xlabel('False Positive Rate')\n",
    "plt.ylabel('True Positive Rate')\n",
    "plt.title('Receiver operating characteristic example')\n",
    "plt.legend(loc=\"lower right\")\n",
    "plt.show()"
   ]
  },
  {
   "cell_type": "code",
   "execution_count": 66,
   "metadata": {},
   "outputs": [
    {
     "data": {
      "text/plain": [
       "array([0, 0, 0, ..., 0, 0, 0])"
      ]
     },
     "execution_count": 66,
     "metadata": {},
     "output_type": "execute_result"
    }
   ],
   "source": [
    "traning_label.values.flatten()"
   ]
  },
  {
   "cell_type": "code",
   "execution_count": 69,
   "metadata": {},
   "outputs": [
    {
     "name": "stdout",
     "output_type": "stream",
     "text": [
      "Accuracy: 58.7780677493\n",
      "Accuracy: 58.4858934067\n",
      "Accuracy: 59.5573076627\n",
      "Accuracy: 58.659118017\n",
      "Accuracy: 59.8620486437\n",
      "Accuracy: 58.9269174144\n"
     ]
    },
    {
     "data": {
      "image/png": "[encoded data removed]",
      "text/plain": [
       "<matplotlib.figure.Figure at 0x1cb059eaa20>"
      ]
     },
     "metadata": {},
     "output_type": "display_data"
    }
   ],
   "source": [
    "from itertools import cycle\n",
    "from sklearn.model_selection import StratifiedKFold\n",
    "cv = StratifiedKFold(n_splits=6)\n",
    "mean_tpr = 0.0\n",
    "mean_fpr = np.linspace(0, 1, 100)\n",
    "X = pd.concat([traning_feature,testing_feature]).values\n",
    "y = pd.concat([traning_label,testing_label]).values.flatten()\n",
    "colors = cycle(['cyan', 'indigo', 'seagreen', 'yellow', 'blue', 'darkorange'])\n",
    "lw = 2\n",
    "classifier = linear_model.LogisticRegression(class_weight='balanced')\n",
    "i = 0\n",
    "for (train, test), color in zip(cv.split(X, y), colors):\n",
    "    probas_ = classifier.fit(X[train], y[train]).predict_proba(X[test])\n",
    "    z=classifier.predict(traning_feature)\n",
    "    result = np.sum(traning_label.values.flatten() == z)/z.size\n",
    "    print(\"Accuracy:\",result*100)\n",
    "    # Compute ROC curve and area the curve\n",
    "    fpr, tpr, thresholds = roc_curve(y[test], probas_[:, 1])\n",
    "    mean_tpr += interp(mean_fpr, fpr, tpr)\n",
    "    mean_tpr[0] = 0.0\n",
    "    roc_auc = auc(fpr, tpr)\n",
    "    plt.plot(fpr, tpr, lw=lw, color=color,\n",
    "             label='ROC fold %d (area = %0.2f)' % (i, roc_auc))\n",
    "\n",
    "    i += 1\n",
    "plt.plot([0, 1], [0, 1], linestyle='--', lw=lw, color='k',\n",
    "         label='Luck')\n",
    "\n",
    "mean_tpr /= cv.get_n_splits(X, y)\n",
    "mean_tpr[-1] = 1.0\n",
    "mean_auc = auc(mean_fpr, mean_tpr)\n",
    "plt.plot(mean_fpr, mean_tpr, color='g', linestyle='--',\n",
    "         label='Mean ROC (area = %0.2f)' % mean_auc, lw=lw)\n",
    "\n",
    "plt.xlim([-0.05, 1.05])\n",
    "plt.ylim([-0.05, 1.05])\n",
    "plt.xlabel('False Positive Rate')\n",
    "plt.ylabel('True Positive Rate')\n",
    "plt.title('Receiver operating characteristic example')\n",
    "plt.legend(loc=\"lower right\")\n",
    "plt.show()"
   ]
  },
  {
   "cell_type": "code",
   "execution_count": 52,
   "metadata": {},
   "outputs": [
    {
     "data": {
      "text/plain": [
       "1"
      ]
     },
     "execution_count": 52,
     "metadata": {},
     "output_type": "execute_result"
    }
   ],
   "source": [
    "z[0].size"
   ]
  },
  {
   "cell_type": "code",
   "execution_count": 35,
   "metadata": {},
   "outputs": [
    {
     "data": {
      "text/plain": [
       "array([0, 0, 0, ..., 0, 0, 0])"
      ]
     },
     "execution_count": 35,
     "metadata": {},
     "output_type": "execute_result"
    }
   ],
   "source": [
    "y.flatten()"
   ]
  },
  {
   "cell_type": "code",
   "execution_count": 32,
   "metadata": {},
   "outputs": [
    {
     "name": "stdout",
     "output_type": "stream",
     "text": [
      "Automatically created module for IPython interactive environment\n"
     ]
    },
    {
     "data": {
      "image/png": "[encoded data removed]",
      "text/plain": [
       "<matplotlib.figure.Figure at 0x1cb06410780>"
      ]
     },
     "metadata": {},
     "output_type": "display_data"
    }
   ],
   "source": [
    "print(__doc__)\n",
    "\n",
    "import numpy as np\n",
    "from scipy import interp\n",
    "import matplotlib.pyplot as plt\n",
    "from itertools import cycle\n",
    "\n",
    "from sklearn import svm, datasets\n",
    "from sklearn.metrics import roc_curve, auc\n",
    "from sklearn.model_selection import StratifiedKFold\n",
    "# import some data to play with\n",
    "iris = datasets.load_iris()\n",
    "X = iris.data\n",
    "y = iris.target\n",
    "X, y = X[y != 2], y[y != 2]\n",
    "n_samples, n_features = X.shape\n",
    "\n",
    "# Add noisy features\n",
    "random_state = np.random.RandomState(0)\n",
    "X = np.c_[X, random_state.randn(n_samples, 200 * n_features)]\n",
    "# Run classifier with cross-validation and plot ROC curves\n",
    "cv = StratifiedKFold(n_splits=6)\n",
    "classifier = svm.SVC(kernel='linear', probability=True,\n",
    "                     random_state=random_state)\n",
    "\n",
    "mean_tpr = 0.0\n",
    "mean_fpr = np.linspace(0, 1, 100)\n",
    "\n",
    "colors = cycle(['cyan', 'indigo', 'seagreen', 'yellow', 'blue', 'darkorange'])\n",
    "lw = 2\n",
    "\n",
    "i = 0\n",
    "for (train, test), color in zip(cv.split(X, y), colors):\n",
    "    probas_ = classifier.fit(X[train], y[train]).predict_proba(X[test])\n",
    "    # Compute ROC curve and area the curve\n",
    "    fpr, tpr, thresholds = roc_curve(y[test], probas_[:, 1])\n",
    "    mean_tpr += interp(mean_fpr, fpr, tpr)\n",
    "    mean_tpr[0] = 0.0\n",
    "    roc_auc = auc(fpr, tpr)\n",
    "    plt.plot(fpr, tpr, lw=lw, color=color,\n",
    "             label='ROC fold %d (area = %0.2f)' % (i, roc_auc))\n",
    "\n",
    "    i += 1\n",
    "plt.plot([0, 1], [0, 1], linestyle='--', lw=lw, color='k',\n",
    "         label='Luck')\n",
    "\n",
    "mean_tpr /= cv.get_n_splits(X, y)\n",
    "mean_tpr[-1] = 1.0\n",
    "mean_auc = auc(mean_fpr, mean_tpr)\n",
    "plt.plot(mean_fpr, mean_tpr, color='g', linestyle='--',\n",
    "         label='Mean ROC (area = %0.2f)' % mean_auc, lw=lw)\n",
    "\n",
    "plt.xlim([-0.05, 1.05])\n",
    "plt.ylim([-0.05, 1.05])\n",
    "plt.xlabel('False Positive Rate')\n",
    "plt.ylabel('True Positive Rate')\n",
    "plt.title('Receiver operating characteristic example')\n",
    "plt.legend(loc=\"lower right\")\n",
    "plt.show()"
   ]
  },
  {
   "cell_type": "code",
   "execution_count": 33,
   "metadata": {},
   "outputs": [
    {
     "data": {
      "text/plain": [
       "array([0, 0, 0, 0, 0, 0, 0, 0, 0, 0, 0, 0, 0, 0, 0, 0, 0, 0, 0, 0, 0, 0, 0,\n",
       "       0, 0, 0, 0, 0, 0, 0, 0, 0, 0, 0, 0, 0, 0, 0, 0, 0, 0, 0, 0, 0, 0, 0,\n",
       "       0, 0, 0, 0, 1, 1, 1, 1, 1, 1, 1, 1, 1, 1, 1, 1, 1, 1, 1, 1, 1, 1, 1,\n",
       "       1, 1, 1, 1, 1, 1, 1, 1, 1, 1, 1, 1, 1, 1, 1, 1, 1, 1, 1, 1, 1, 1, 1,\n",
       "       1, 1, 1, 1, 1, 1, 1, 1])"
      ]
     },
     "execution_count": 33,
     "metadata": {},
     "output_type": "execute_result"
    }
   ],
   "source": [
    "y"
   ]
  },
  {
   "cell_type": "code",
   "execution_count": null,
   "metadata": {
    "collapsed": true
   },
   "outputs": [],
   "source": [
    "def start(data):\n",
    "    #data = pd.read_csv(\"C:/Users\\sup33\\Downloads/classify_feature_matrix.csv\")\n",
    "    #data=pd.get_dummies(data)\n",
    "    X = data.values\n",
    "    X=scale(X)\n",
    "\n",
    "\n",
    "    #Find the varience\n",
    "    pca=PCA(n_components=280)\n",
    "    pca.fit(X)\n",
    "    var=np.cumsum(np.round(pca.explained_variance_ratio_, decimals=4)*100)\n",
    "    var=pca.explained_variance_\n",
    "    eigen_val = var\n",
    "    #var=np.matrix(var).transpose()\n",
    "    #var=var[::-1]\n",
    "    #print(var)\n",
    "    #eigen_val = pca.explained_variance_\n",
    "    eigen_val=eigen_val/700\n",
    "    for index in range(1,len(eigen_val)):\n",
    "        eigen_val[index]+=eigen_val[index-1]\n",
    "    plt.plot(eigen_val)\n",
    "    plt.title(\"Varience of each attribute\")\n",
    "    plt.xlabel(\"Eigen Vector\")\n",
    "    plt.ylabel(\"Performance\")\n",
    "    plt.plot()\n",
    "    plt.show()\n",
    "start(traning_feature)"
   ]
  }
 ],
 "metadata": {
  "kernelspec": {
   "display_name": "Python 3",
   "language": "python",
   "name": "python3"
  },
  "language_info": {
   "codemirror_mode": {
    "name": "ipython",
    "version": 3
   },
   "file_extension": ".py",
   "mimetype": "text/x-python",
   "name": "python",
   "nbconvert_exporter": "python",
   "pygments_lexer": "ipython3",
   "version": "3.6.1"
  }
 },
 "nbformat": 4,
 "nbformat_minor": 2
}
